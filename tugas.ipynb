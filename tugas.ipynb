{
  "nbformat": 4,
  "nbformat_minor": 0,
  "metadata": {
    "colab": {
      "provenance": [],
      "authorship_tag": "ABX9TyO9R4GnCP1NCZ//8SPCIIx6",
      "include_colab_link": true
    },
    "kernelspec": {
      "name": "python3",
      "display_name": "Python 3"
    },
    "language_info": {
      "name": "python"
    }
  },
  "cells": [
    {
      "cell_type": "markdown",
      "metadata": {
        "id": "view-in-github",
        "colab_type": "text"
      },
      "source": [
        "<a href=\"https://colab.research.google.com/github/aqhsansiddik-png/Pemograman-Dasar/blob/main/tugas.ipynb\" target=\"_parent\"><img src=\"https://colab.research.google.com/assets/colab-badge.svg\" alt=\"Open In Colab\"/></a>"
      ]
    },
    {
      "cell_type": "code",
      "source": [
        "print(\"*\" * 30)\n",
        "print(\"SELAMAT DATANG DI SANDIK COFFEE\")\n",
        "print(\"*\" * 30)\n",
        "\n",
        "menu = {1: (\"Kopi Hitam\", 12000), 2: (\"Teh Manis\", 8000), 3: (\"Roti Bakar\", 15000), 4: (\"Kentang Goreng\", 17000)}\n",
        "for key, value in menu.items(): print(f\"{key}. {value[0]} - Rp {value[1]:,}\")\n",
        "print(\"*\" * 30)\n",
        "\n",
        "pilihan = int(input(\"Pilih menu (1-4): \"))\n",
        "if pilihan not in menu: print(\"Pilihan tidak valid.\"); exit()\n",
        "\n",
        "nama, harga = menu[pilihan]\n",
        "diskon = 0.5 if harga >= 17000 else 0.3 if harga >= 15000 else 0.1\n",
        "total = harga - harga * diskon\n",
        "\n",
        "print(f\"\\nPesanan: {nama}\\nHarga: Rp {harga}\\nDiskon: {int(diskon*100)}% (Rp {int(harga*diskon)})\\nTotal: Rp {int(total)}\")\n",
        "\n",
        "uang = int(input(\"Bayar: Rp \"))\n",
        "if uang >= total:\n",
        "    print(f\"Struk:\\nPesanan: {nama}\\nBayar: Rp {uang}\\nKembalian: Rp {uang - total}\")\n",
        "else:\n",
        "    print(f\"Uang kurang: Rp {total - uang}\")\n",
        "print(\"*\" * 30)\n"
      ],
      "metadata": {
        "colab": {
          "base_uri": "https://localhost:8080/"
        },
        "id": "P2My1BFo1LwE",
        "outputId": "cead1f2f-7a50-4694-dfd9-3499fc54c61e"
      },
      "execution_count": 2,
      "outputs": [
        {
          "output_type": "stream",
          "name": "stdout",
          "text": [
            "******************************\n",
            "SELAMAT DATANG DI SANDIK COFFEE\n",
            "******************************\n",
            "1. Kopi Hitam - Rp 12,000\n",
            "2. Teh Manis - Rp 8,000\n",
            "3. Roti Bakar - Rp 15,000\n",
            "4. Kentang Goreng - Rp 17,000\n",
            "******************************\n",
            "Pilih menu (1-4): 4\n",
            "\n",
            "Pesanan: Kentang Goreng\n",
            "Harga: Rp 17000\n",
            "Diskon: 50% (Rp 8500)\n",
            "Total: Rp 8500\n",
            "Bayar: Rp 30000\n",
            "Struk:\n",
            "Pesanan: Kentang Goreng\n",
            "Bayar: Rp 30000\n",
            "Kembalian: Rp 21500.0\n",
            "******************************\n"
          ]
        }
      ]
    }
  ]
}