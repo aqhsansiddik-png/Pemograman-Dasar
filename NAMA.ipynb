{
  "nbformat": 4,
  "nbformat_minor": 0,
  "metadata": {
    "colab": {
      "provenance": [],
      "authorship_tag": "ABX9TyPpH186pG6inl3rVrWkZedm",
      "include_colab_link": true
    },
    "kernelspec": {
      "name": "python3",
      "display_name": "Python 3"
    },
    "language_info": {
      "name": "python"
    }
  },
  "cells": [
    {
      "cell_type": "markdown",
      "metadata": {
        "id": "view-in-github",
        "colab_type": "text"
      },
      "source": [
        "<a href=\"https://colab.research.google.com/github/aqhsansiddik-png/Pemograman-Dasar/blob/main/NAMA.ipynb\" target=\"_parent\"><img src=\"https://colab.research.google.com/assets/colab-badge.svg\" alt=\"Open In Colab\"/></a>"
      ]
    },
    {
      "cell_type": "code",
      "execution_count": 3,
      "metadata": {
        "colab": {
          "base_uri": "https://localhost:8080/"
        },
        "id": "m-QQMLMuG6jq",
        "outputId": "0bc2dd28-8696-45bf-d1d5-2a4cb276e32d"
      },
      "outputs": [
        {
          "output_type": "stream",
          "name": "stdout",
          "text": [
            "First Name : AQHSAN\n",
            "Last Name  : SIDDIK\n",
            "Age        : 20\n",
            "Married    : False\n"
          ]
        }
      ],
      "source": [
        "firstName = \"AQHSAN\"\n",
        "lastName = \"SIDDIK\"\n",
        "age = 20\n",
        "isMarried= False\n",
        "\n",
        "\n",
        "print(\"First Name :\", firstName)\n",
        "print(\"Last Name  :\", lastName)\n",
        "print(\"Age        :\", age)\n",
        "print(\"Married    :\", isMarried)\n"
      ]
    }
  ]
}