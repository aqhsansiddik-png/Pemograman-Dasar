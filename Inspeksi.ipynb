{
  "nbformat": 4,
  "nbformat_minor": 0,
  "metadata": {
    "colab": {
      "provenance": [],
      "authorship_tag": "ABX9TyMdQJc/LwzVw00rvTy8EH6s",
      "include_colab_link": true
    },
    "kernelspec": {
      "name": "python3",
      "display_name": "Python 3"
    },
    "language_info": {
      "name": "python"
    }
  },
  "cells": [
    {
      "cell_type": "markdown",
      "metadata": {
        "id": "view-in-github",
        "colab_type": "text"
      },
      "source": [
        "<a href=\"https://colab.research.google.com/github/aqhsansiddik-png/Pemograman-Dasar/blob/main/Inspeksi.ipynb\" target=\"_parent\"><img src=\"https://colab.research.google.com/assets/colab-badge.svg\" alt=\"Open In Colab\"/></a>"
      ]
    },
    {
      "cell_type": "code",
      "execution_count": 1,
      "metadata": {
        "colab": {
          "base_uri": "https://localhost:8080/"
        },
        "id": "m-QQMLMuG6jq",
        "outputId": "0ab0e204-2ce4-4c1c-d958-e2e80d9caae7"
      },
      "outputs": [
        {
          "output_type": "stream",
          "name": "stdout",
          "text": [
            "Daftar Inspeksi:\n",
            "_ pemahaman terhadap rencana dan desain\n",
            "_ ketersediaan bahan dan peralatan\n",
            "_ pengawasan pekerjaan\n",
            "_ kualitas kontruksi\n",
            "_ keselamatan kerja\n",
            "_ koordinasi dengan pemilik proyek\n"
          ]
        }
      ],
      "source": [
        "inspeksi = [\n",
        "    \"pemahaman terhadap rencana dan desain\",\n",
        "    \"ketersediaan bahan dan peralatan\",\n",
        "    \"pengawasan pekerjaan\",\n",
        "    \"kualitas kontruksi\",\n",
        "    \"keselamatan kerja\",\n",
        "    \"koordinasi dengan pemilik proyek\"\n",
        "]\n",
        "\n",
        "\n",
        "print(\"Daftar Inspeksi:\")\n",
        "for item in inspeksi:\n",
        "  print(\"_\", item)"
      ]
    }
  ]
}