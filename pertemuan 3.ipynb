{
  "nbformat": 4,
  "nbformat_minor": 0,
  "metadata": {
    "colab": {
      "provenance": [],
      "authorship_tag": "ABX9TyOEVMs5z6w5dzIH63QXt9Kb",
      "include_colab_link": true
    },
    "kernelspec": {
      "name": "python3",
      "display_name": "Python 3"
    },
    "language_info": {
      "name": "python"
    }
  },
  "cells": [
    {
      "cell_type": "markdown",
      "metadata": {
        "id": "view-in-github",
        "colab_type": "text"
      },
      "source": [
        "<a href=\"https://colab.research.google.com/github/aqhsansiddik-png/Pemograman-Dasar/blob/main/pertemuan%203.ipynb\" target=\"_parent\"><img src=\"https://colab.research.google.com/assets/colab-badge.svg\" alt=\"Open In Colab\"/></a>"
      ]
    },
    {
      "cell_type": "code",
      "execution_count": 1,
      "metadata": {
        "colab": {
          "base_uri": "https://localhost:8080/"
        },
        "id": "UzWpJZaeWWxY",
        "outputId": "1ac15aad-626c-43a1-9cdc-9fe3daf1da90"
      },
      "outputs": [
        {
          "name": "stdout",
          "output_type": "stream",
          "text": [
            "Berapa porsi makan yang Anda beli? :  10\n",
            "Siapa Nama Pelanggan ? : aqhsan\n"
          ]
        }
      ],
      "source": [
        "# Fungsi untuk menerima input dengan tipe data float\n",
        "total = float(input(\"Berapa porsi makan yang Anda beli? :  \"))\n",
        "Nama = str(input(\"Siapa Nama Pelanggan ? : \"))"
      ]
    }
  ]
}