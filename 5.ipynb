{
  "nbformat": 4,
  "nbformat_minor": 0,
  "metadata": {
    "colab": {
      "provenance": [],
      "authorship_tag": "ABX9TyMQNvFd7FFsNlVxy5Cj5Lyo",
      "include_colab_link": true
    },
    "kernelspec": {
      "name": "python3",
      "display_name": "Python 3"
    },
    "language_info": {
      "name": "python"
    }
  },
  "cells": [
    {
      "cell_type": "markdown",
      "metadata": {
        "id": "view-in-github",
        "colab_type": "text"
      },
      "source": [
        "<a href=\"https://colab.research.google.com/github/aqhsansiddik-png/Pemograman-Dasar/blob/main/5.ipynb\" target=\"_parent\"><img src=\"https://colab.research.google.com/assets/colab-badge.svg\" alt=\"Open In Colab\"/></a>"
      ]
    },
    {
      "cell_type": "code",
      "source": [
        "total = 0\n",
        "angka_habis_dibagi_3_atau_5 = []\n",
        "\n",
        "for i in range(1, 101):\n",
        "    if i % 3 == 0 or i % 5 == 0:\n",
        "        total += i\n",
        "        angka_habis_dibagi_3_atau_5.append(i)\n",
        "\n",
        "print(f\"Jumlah angka yang habis dibagi 3 atau 5: {total}\")\n",
        "print(f\"Angka-angka yang habis dibagi 3 atau 5: {angka_habis_dibagi_3_atau_5}\")\n"
      ],
      "metadata": {
        "colab": {
          "base_uri": "https://localhost:8080/"
        },
        "id": "v_caYB5gPkoF",
        "outputId": "1cc4c250-7cbb-4cbc-b7a6-baae009a9035"
      },
      "execution_count": 5,
      "outputs": [
        {
          "output_type": "stream",
          "name": "stdout",
          "text": [
            "Jumlah angka yang habis dibagi 3 atau 5: 2418\n",
            "Angka-angka yang habis dibagi 3 atau 5: [3, 5, 6, 9, 10, 12, 15, 18, 20, 21, 24, 25, 27, 30, 33, 35, 36, 39, 40, 42, 45, 48, 50, 51, 54, 55, 57, 60, 63, 65, 66, 69, 70, 72, 75, 78, 80, 81, 84, 85, 87, 90, 93, 95, 96, 99, 100]\n"
          ]
        }
      ]
    }
  ]
}